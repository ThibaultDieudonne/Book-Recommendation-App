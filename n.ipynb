{
 "cells": [
  {
   "cell_type": "markdown",
   "id": "c0129278",
   "metadata": {},
   "source": [
    "# Réalisez une application mobile de recommandation de contenu"
   ]
  },
  {
   "cell_type": "code",
   "execution_count": 1,
   "id": "8d54fea3",
   "metadata": {},
   "outputs": [],
   "source": [
    "import warnings\n",
    "warnings.filterwarnings(\"ignore\")\n",
    "\n",
    "import os\n",
    "import pandas as pd\n",
    "import numpy as np\n",
    "import pickle\n",
    "import seaborn as sns\n",
    "import matplotlib.pyplot as plt\n",
    "import random\n",
    "\n",
    "pd.set_option('display.max_rows', None)\n",
    "pd.set_option('display.max_columns', None)\n",
    "pd.set_option('display.width', None)\n",
    "pd.set_option('display.max_colwidth', -1)\n",
    "\n",
    "CLICK_THRESHOLD = 10\n",
    "VAL_SIZE = .2"
   ]
  },
  {
   "cell_type": "markdown",
   "id": "e9b2f9de",
   "metadata": {},
   "source": [
    "## Exploration des données"
   ]
  },
  {
   "cell_type": "code",
   "execution_count": 2,
   "id": "ce0f4c23",
   "metadata": {},
   "outputs": [],
   "source": [
    "PATH_ARTICLES_DATA = \"./data/articles_metadata.csv\"\n",
    "articles_df = pd.read_csv(PATH_ARTICLES_DATA)\n",
    "articles_df = articles_df[[\"article_id\", \"category_id\", \"words_count\"]]\n",
    "# articles_df[\"article_id\"].is_unique => True\n",
    "articles_df = articles_df.set_index(\"article_id\")"
   ]
  },
  {
   "cell_type": "code",
   "execution_count": 3,
   "id": "c95ac2ed",
   "metadata": {},
   "outputs": [
    {
     "data": {
      "text/html": [
       "<div>\n",
       "<style scoped>\n",
       "    .dataframe tbody tr th:only-of-type {\n",
       "        vertical-align: middle;\n",
       "    }\n",
       "\n",
       "    .dataframe tbody tr th {\n",
       "        vertical-align: top;\n",
       "    }\n",
       "\n",
       "    .dataframe thead th {\n",
       "        text-align: right;\n",
       "    }\n",
       "</style>\n",
       "<table border=\"1\" class=\"dataframe\">\n",
       "  <thead>\n",
       "    <tr style=\"text-align: right;\">\n",
       "      <th></th>\n",
       "      <th>category_id</th>\n",
       "      <th>words_count</th>\n",
       "    </tr>\n",
       "    <tr>\n",
       "      <th>article_id</th>\n",
       "      <th></th>\n",
       "      <th></th>\n",
       "    </tr>\n",
       "  </thead>\n",
       "  <tbody>\n",
       "    <tr>\n",
       "      <th>0</th>\n",
       "      <td>0</td>\n",
       "      <td>168</td>\n",
       "    </tr>\n",
       "    <tr>\n",
       "      <th>1</th>\n",
       "      <td>1</td>\n",
       "      <td>189</td>\n",
       "    </tr>\n",
       "    <tr>\n",
       "      <th>2</th>\n",
       "      <td>1</td>\n",
       "      <td>250</td>\n",
       "    </tr>\n",
       "    <tr>\n",
       "      <th>3</th>\n",
       "      <td>1</td>\n",
       "      <td>230</td>\n",
       "    </tr>\n",
       "    <tr>\n",
       "      <th>4</th>\n",
       "      <td>1</td>\n",
       "      <td>162</td>\n",
       "    </tr>\n",
       "  </tbody>\n",
       "</table>\n",
       "</div>"
      ],
      "text/plain": [
       "            category_id  words_count\n",
       "article_id                          \n",
       "0           0            168        \n",
       "1           1            189        \n",
       "2           1            250        \n",
       "3           1            230        \n",
       "4           1            162        "
      ]
     },
     "execution_count": 3,
     "metadata": {},
     "output_type": "execute_result"
    }
   ],
   "source": [
    "articles_df.head()"
   ]
  },
  {
   "cell_type": "code",
   "execution_count": 4,
   "id": "62743529",
   "metadata": {},
   "outputs": [
    {
     "data": {
      "image/png": "[encoded data removed]",
      "text/plain": [
       "<Figure size 864x576 with 1 Axes>"
      ]
     },
     "metadata": {
      "needs_background": "light"
     },
     "output_type": "display_data"
    }
   ],
   "source": [
    "articles_df['words_count'].describe()\n",
    "fig, ax = plt.subplots(figsize=(12, 8))\n",
    "sns.histplot(articles_df['words_count'],  ax=ax)\n",
    "plt.xlim([0,400])\n",
    "plt.title('Distribution du nombre de mots par article');\n",
    "plt.show()"
   ]
  },
  {
   "cell_type": "code",
   "execution_count": 5,
   "id": "cef4f58f",
   "metadata": {},
   "outputs": [
    {
     "data": {
      "text/html": [
       "<div>\n",
       "<style scoped>\n",
       "    .dataframe tbody tr th:only-of-type {\n",
       "        vertical-align: middle;\n",
       "    }\n",
       "\n",
       "    .dataframe tbody tr th {\n",
       "        vertical-align: top;\n",
       "    }\n",
       "\n",
       "    .dataframe thead th {\n",
       "        text-align: right;\n",
       "    }\n",
       "</style>\n",
       "<table border=\"1\" class=\"dataframe\">\n",
       "  <thead>\n",
       "    <tr style=\"text-align: right;\">\n",
       "      <th></th>\n",
       "      <th>user_id</th>\n",
       "      <th>click_article_id</th>\n",
       "      <th>category_id</th>\n",
       "      <th>category_click_rate</th>\n",
       "    </tr>\n",
       "  </thead>\n",
       "  <tbody>\n",
       "    <tr>\n",
       "      <th>0</th>\n",
       "      <td>0</td>\n",
       "      <td>157541</td>\n",
       "      <td>281</td>\n",
       "      <td>0.250000</td>\n",
       "    </tr>\n",
       "    <tr>\n",
       "      <th>1</th>\n",
       "      <td>0</td>\n",
       "      <td>68866</td>\n",
       "      <td>136</td>\n",
       "      <td>0.125000</td>\n",
       "    </tr>\n",
       "    <tr>\n",
       "      <th>2</th>\n",
       "      <td>1</td>\n",
       "      <td>235840</td>\n",
       "      <td>375</td>\n",
       "      <td>0.166667</td>\n",
       "    </tr>\n",
       "    <tr>\n",
       "      <th>3</th>\n",
       "      <td>1</td>\n",
       "      <td>96663</td>\n",
       "      <td>209</td>\n",
       "      <td>0.083333</td>\n",
       "    </tr>\n",
       "    <tr>\n",
       "      <th>4</th>\n",
       "      <td>2</td>\n",
       "      <td>119592</td>\n",
       "      <td>247</td>\n",
       "      <td>0.250000</td>\n",
       "    </tr>\n",
       "  </tbody>\n",
       "</table>\n",
       "</div>"
      ],
      "text/plain": [
       "   user_id  click_article_id  category_id  category_click_rate\n",
       "0  0        157541            281          0.250000           \n",
       "1  0        68866             136          0.125000           \n",
       "2  1        235840            375          0.166667           \n",
       "3  1        96663             209          0.083333           \n",
       "4  2        119592            247          0.250000           "
      ]
     },
     "execution_count": 5,
     "metadata": {},
     "output_type": "execute_result"
    }
   ],
   "source": [
    "PREPROCESS = False\n",
    "\n",
    "df_file = f'./clicks_df.csv'\n",
    "\n",
    "if not os.path.isfile(df_file) or PREPROCESS:\n",
    "    CLICK_FILES_PATH = \"./data/clicks/\"\n",
    "    click_files = [CLICK_FILES_PATH + x for x in os.listdir(CLICK_FILES_PATH)];\n",
    "    click_files.sort()\n",
    "\n",
    "    clicks_df = [pd.read_csv(x, index_col=None, header=0) for x in click_files];\n",
    "    clicks_df = [x.drop(columns = ['session_id',\n",
    "                                   'session_start',\n",
    "                                   'session_size',\n",
    "                                   'click_timestamp',\n",
    "                                   'click_environment',\n",
    "                                   'click_deviceGroup',\n",
    "                                   'click_os',\n",
    "                                   'click_country',\n",
    "                                   'click_region',\n",
    "                                   'click_referrer_type']) for x in clicks_df]\n",
    "    clicks_df = pd.concat(clicks_df, axis=0, ignore_index=True)\n",
    "\n",
    "    article_to_category = articles_df['category_id'].to_dict()\n",
    "    clicks_df['category_id'] = clicks_df['click_article_id'].map(article_to_category).astype(int)\n",
    "\n",
    "    clicks_df['total_click'] = clicks_df.groupby(['user_id'])['click_article_id'].transform('count')\n",
    "    clicks_df['total_click_by_category_id'] = clicks_df.groupby(['user_id','category_id'])['click_article_id'].transform('count')\n",
    "    clicks_df['category_click_rate'] = clicks_df['total_click_by_category_id'] / clicks_df['total_click']\n",
    "    clicks_df = clicks_df.drop([\"total_click\", \"total_click_by_category_id\"], axis=1)\n",
    "\n",
    "    clicks_df.to_csv(df_file, index=False)\n",
    "\n",
    "    print(f'Shape after dropping duplicate : {clicks_df.shape}')\n",
    "\n",
    "else:\n",
    "    clicks_df = pd.read_csv(df_file)\n",
    "    \n",
    "clicks_df.head()"
   ]
  },
  {
   "cell_type": "code",
   "execution_count": 6,
   "id": "9899a059",
   "metadata": {},
   "outputs": [
    {
     "name": "stdout",
     "output_type": "stream",
     "text": [
      "Suppression de 245606 utilisateurs (moins de 10 visites)\n",
      "77291 utilisateurs restants\n",
      "La taille de l'historique est passée de 2988181 à 1979922\n"
     ]
    }
   ],
   "source": [
    "old_users = clicks_df.user_id.nunique()\n",
    "old_shape = clicks_df.shape[0]\n",
    "clicks_df = clicks_df[clicks_df['user_id'].isin(clicks_df['user_id'].value_counts()[clicks_df['user_id'].value_counts()>CLICK_THRESHOLD].index)]\n",
    "new_users = clicks_df.user_id.nunique()\n",
    "print(f\"Suppression de {old_users - new_users} utilisateurs (moins de {CLICK_THRESHOLD} visites)\")\n",
    "print(f\"{new_users} utilisateurs restants\")\n",
    "print(f\"La taille de l'historique est passée de {old_shape} à {clicks_df.shape[0]}\")"
   ]
  },
  {
   "cell_type": "code",
   "execution_count": 7,
   "id": "3422e7b6",
   "metadata": {},
   "outputs": [],
   "source": [
    "#users = list(set(clicks_df[\"user_id\"].to_list()))\n",
    "#val_df_ids = random.sample(users, int(VAL_SIZE * len(users)))\n",
    "#train_df = clicks_df[~clicks_df.user_id.isin(val_df_ids)]\n",
    "#val_df = clicks_df[clicks_df.user_id.isin(val_df_ids)]"
   ]
  },
  {
   "cell_type": "markdown",
   "id": "bdb8a5df",
   "metadata": {},
   "source": [
    "## SVD"
   ]
  },
  {
   "cell_type": "code",
   "execution_count": 8,
   "id": "7f736180",
   "metadata": {},
   "outputs": [],
   "source": [
    "from surprise import Dataset\n",
    "from surprise import Reader\n",
    "from surprise import KNNWithMeans, SVD\n",
    "from surprise.model_selection import train_test_split\n",
    "from surprise import accuracy"
   ]
  },
  {
   "cell_type": "code",
   "execution_count": 9,
   "id": "c10a0ee2",
   "metadata": {},
   "outputs": [],
   "source": [
    "reader = Reader(rating_scale=(0, 1))\n",
    "# clicks_df = clicks_df[clicks_df['user_id'] < 42000]\n",
    "clicks_ds = Dataset.load_from_df(clicks_df[['user_id', 'click_article_id', 'category_click_rate']], reader)\n",
    "train_set, test_set = train_test_split(clicks_ds, test_size=VAL_SIZE)"
   ]
  },
  {
   "cell_type": "code",
   "execution_count": 10,
   "id": "18d6548c",
   "metadata": {},
   "outputs": [
    {
     "name": "stdout",
     "output_type": "stream",
     "text": [
      "Wall time: 1min 17s\n"
     ]
    }
   ],
   "source": [
    "%%time\n",
    "model = SVD().fit(train_set)"
   ]
  },
  {
   "cell_type": "code",
   "execution_count": 11,
   "id": "ef7ce117",
   "metadata": {},
   "outputs": [],
   "source": [
    "predict = model.test(test_set)"
   ]
  },
  {
   "cell_type": "code",
   "execution_count": 12,
   "id": "0777ec47",
   "metadata": {},
   "outputs": [
    {
     "name": "stdout",
     "output_type": "stream",
     "text": [
      "RMSE: 0.0940\n",
      "MSE: 0.0088\n",
      "MAE:  0.0637\n"
     ]
    },
    {
     "data": {
      "text/plain": [
       "0.063699342158363"
      ]
     },
     "execution_count": 12,
     "metadata": {},
     "output_type": "execute_result"
    }
   ],
   "source": [
    "accuracy.rmse(predict)\n",
    "accuracy.mse(predict)\n",
    "accuracy.mae(predict)"
   ]
  },
  {
   "cell_type": "code",
   "execution_count": 13,
   "id": "7caa5b2d",
   "metadata": {},
   "outputs": [
    {
     "name": "stdout",
     "output_type": "stream",
     "text": [
      "Prediction rating for User 0 with cat 281 : 0.12494223860412333\n"
     ]
    }
   ],
   "source": [
    "print(f'Prediction rating for User 0 with cat 281 : {model.predict(0, 281).est}')"
   ]
  },
  {
   "cell_type": "markdown",
   "id": "791fe8af",
   "metadata": {},
   "source": [
    "## Content based recommendations"
   ]
  },
  {
   "cell_type": "markdown",
   "id": "b8f6b2ee",
   "metadata": {},
   "source": [
    "## Collaborative filtering"
   ]
  },
  {
   "cell_type": "code",
   "execution_count": null,
   "id": "c29460e0",
   "metadata": {},
   "outputs": [],
   "source": []
  }
 ],
 "metadata": {
  "kernelspec": {
   "display_name": "Python 3 (ipykernel)",
   "language": "python",
   "name": "python3"
  },
  "language_info": {
   "codemirror_mode": {
    "name": "ipython",
    "version": 3
   },
   "file_extension": ".py",
   "mimetype": "text/x-python",
   "name": "python",
   "nbconvert_exporter": "python",
   "pygments_lexer": "ipython3",
   "version": "3.8.12"
  }
 },
 "nbformat": 4,
 "nbformat_minor": 5
}
