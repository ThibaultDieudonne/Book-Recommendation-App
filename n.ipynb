{
 "cells": [
  {
   "cell_type": "markdown",
   "id": "c0129278",
   "metadata": {},
   "source": [
    "# Réalisez une application mobile de recommandation de contenu"
   ]
  },
  {
   "cell_type": "code",
   "execution_count": 1,
   "id": "8d54fea3",
   "metadata": {},
   "outputs": [],
   "source": [
    "import warnings\n",
    "warnings.filterwarnings(\"ignore\")\n",
    "\n",
    "import os\n",
    "import pandas as pd\n",
    "import numpy as np\n",
    "import pickle\n",
    "import seaborn as sns\n",
    "import matplotlib.pyplot as plt\n",
    "import random\n",
    "from collections import defaultdict\n",
    "from sklearn.metrics.pairwise import cosine_similarity\n",
    "from surprise import Dataset\n",
    "from surprise import Reader\n",
    "from surprise import KNNWithMeans, SVD, KNNBasic\n",
    "from surprise.model_selection import train_test_split, cross_validate\n",
    "from surprise import accuracy\n",
    "import requests\n",
    "from timeit import default_timer as timer\n",
    "\n",
    "pd.set_option('display.max_rows', None)\n",
    "pd.set_option('display.max_columns', None)\n",
    "pd.set_option('display.width', None)\n",
    "pd.set_option('display.max_colwidth', -1)\n",
    "\n",
    "CLICK_THRESHOLD = 0\n",
    "SCORE_SAMPLE = 100\n",
    "DISPLAY_MODE = 1"
   ]
  },
  {
   "cell_type": "markdown",
   "id": "e9b2f9de",
   "metadata": {},
   "source": [
    "## Exploration des données"
   ]
  },
  {
   "cell_type": "code",
   "execution_count": 2,
   "id": "ce0f4c23",
   "metadata": {},
   "outputs": [],
   "source": [
    "# Preprocess des articles et de leurs catégories\n",
    "PATH_ARTICLES_DATA = \"./data/articles_metadata.csv\"\n",
    "articles_df = pd.read_csv(PATH_ARTICLES_DATA)\n",
    "articles_df = articles_df[[\"article_id\", \"category_id\", \"words_count\"]]\n",
    "articles_df = articles_df.set_index(\"article_id\")\n",
    "article_to_category = articles_df['category_id'].to_dict()"
   ]
  },
  {
   "cell_type": "code",
   "execution_count": 3,
   "id": "c95ac2ed",
   "metadata": {},
   "outputs": [
    {
     "data": {
      "text/html": [
       "<div>\n",
       "<style scoped>\n",
       "    .dataframe tbody tr th:only-of-type {\n",
       "        vertical-align: middle;\n",
       "    }\n",
       "\n",
       "    .dataframe tbody tr th {\n",
       "        vertical-align: top;\n",
       "    }\n",
       "\n",
       "    .dataframe thead th {\n",
       "        text-align: right;\n",
       "    }\n",
       "</style>\n",
       "<table border=\"1\" class=\"dataframe\">\n",
       "  <thead>\n",
       "    <tr style=\"text-align: right;\">\n",
       "      <th></th>\n",
       "      <th>category_id</th>\n",
       "      <th>words_count</th>\n",
       "    </tr>\n",
       "    <tr>\n",
       "      <th>article_id</th>\n",
       "      <th></th>\n",
       "      <th></th>\n",
       "    </tr>\n",
       "  </thead>\n",
       "  <tbody>\n",
       "    <tr>\n",
       "      <th>0</th>\n",
       "      <td>0</td>\n",
       "      <td>168</td>\n",
       "    </tr>\n",
       "    <tr>\n",
       "      <th>1</th>\n",
       "      <td>1</td>\n",
       "      <td>189</td>\n",
       "    </tr>\n",
       "    <tr>\n",
       "      <th>2</th>\n",
       "      <td>1</td>\n",
       "      <td>250</td>\n",
       "    </tr>\n",
       "    <tr>\n",
       "      <th>3</th>\n",
       "      <td>1</td>\n",
       "      <td>230</td>\n",
       "    </tr>\n",
       "    <tr>\n",
       "      <th>4</th>\n",
       "      <td>1</td>\n",
       "      <td>162</td>\n",
       "    </tr>\n",
       "  </tbody>\n",
       "</table>\n",
       "</div>"
      ],
      "text/plain": [
       "            category_id  words_count\n",
       "article_id                          \n",
       "0           0            168        \n",
       "1           1            189        \n",
       "2           1            250        \n",
       "3           1            230        \n",
       "4           1            162        "
      ]
     },
     "execution_count": 3,
     "metadata": {},
     "output_type": "execute_result"
    }
   ],
   "source": [
    "articles_df.head()"
   ]
  },
  {
   "cell_type": "code",
   "execution_count": 4,
   "id": "62743529",
   "metadata": {},
   "outputs": [
    {
     "data": {
      "image/png": "[encoded data removed]",
      "text/plain": [
       "<Figure size 864x576 with 1 Axes>"
      ]
     },
     "metadata": {
      "needs_background": "light"
     },
     "output_type": "display_data"
    }
   ],
   "source": [
    "if DISPLAY_MODE:\n",
    "    articles_df['words_count'].describe()\n",
    "    fig, ax = plt.subplots(figsize=(12, 8))\n",
    "    sns.histplot(articles_df['words_count'],  ax=ax)\n",
    "    plt.xlim([0,400])\n",
    "    plt.title('Distribution du nombre de mots par article');\n",
    "    plt.show()"
   ]
  },
  {
   "cell_type": "code",
   "execution_count": 5,
   "id": "cef4f58f",
   "metadata": {},
   "outputs": [
    {
     "data": {
      "text/html": [
       "<div>\n",
       "<style scoped>\n",
       "    .dataframe tbody tr th:only-of-type {\n",
       "        vertical-align: middle;\n",
       "    }\n",
       "\n",
       "    .dataframe tbody tr th {\n",
       "        vertical-align: top;\n",
       "    }\n",
       "\n",
       "    .dataframe thead th {\n",
       "        text-align: right;\n",
       "    }\n",
       "</style>\n",
       "<table border=\"1\" class=\"dataframe\">\n",
       "  <thead>\n",
       "    <tr style=\"text-align: right;\">\n",
       "      <th></th>\n",
       "      <th>user_id</th>\n",
       "      <th>click_article_id</th>\n",
       "      <th>category_id</th>\n",
       "      <th>category_click_rate</th>\n",
       "    </tr>\n",
       "  </thead>\n",
       "  <tbody>\n",
       "    <tr>\n",
       "      <th>0</th>\n",
       "      <td>1</td>\n",
       "      <td>235840</td>\n",
       "      <td>375</td>\n",
       "      <td>0.166667</td>\n",
       "    </tr>\n",
       "    <tr>\n",
       "      <th>1</th>\n",
       "      <td>1</td>\n",
       "      <td>96663</td>\n",
       "      <td>209</td>\n",
       "      <td>0.083333</td>\n",
       "    </tr>\n",
       "    <tr>\n",
       "      <th>2</th>\n",
       "      <td>3</td>\n",
       "      <td>236065</td>\n",
       "      <td>375</td>\n",
       "      <td>0.764706</td>\n",
       "    </tr>\n",
       "    <tr>\n",
       "      <th>3</th>\n",
       "      <td>3</td>\n",
       "      <td>236294</td>\n",
       "      <td>375</td>\n",
       "      <td>0.764706</td>\n",
       "    </tr>\n",
       "    <tr>\n",
       "      <th>4</th>\n",
       "      <td>5</td>\n",
       "      <td>168868</td>\n",
       "      <td>297</td>\n",
       "      <td>0.011494</td>\n",
       "    </tr>\n",
       "  </tbody>\n",
       "</table>\n",
       "</div>"
      ],
      "text/plain": [
       "   user_id  click_article_id  category_id  category_click_rate\n",
       "0  1        235840            375          0.166667           \n",
       "1  1        96663             209          0.083333           \n",
       "2  3        236065            375          0.764706           \n",
       "3  3        236294            375          0.764706           \n",
       "4  5        168868            297          0.011494           "
      ]
     },
     "execution_count": 5,
     "metadata": {},
     "output_type": "execute_result"
    }
   ],
   "source": [
    "PREPROCESS = 0\n",
    "\n",
    "df_file = './clicks_df.csv'\n",
    "\n",
    "if not os.path.isfile(df_file) or PREPROCESS:\n",
    "    # chargement des fichier d'historique\n",
    "    CLICK_FILES_PATH = \"./data/clicks/\"\n",
    "    click_files = [CLICK_FILES_PATH + x for x in os.listdir(CLICK_FILES_PATH)]\n",
    "    click_files.sort()\n",
    "    clicks_df = [pd.read_csv(x, index_col=None, header=0) for x in click_files]\n",
    "    # on ne garde que les colones qui nous intéressent\n",
    "    clicks_df = [x.drop(columns = ['session_id',\n",
    "                                   'session_start',\n",
    "                                   'session_size',\n",
    "                                   'click_timestamp',\n",
    "                                   'click_environment',\n",
    "                                   'click_deviceGroup',\n",
    "                                   'click_os',\n",
    "                                   'click_country',\n",
    "                                   'click_region',\n",
    "                                   'click_referrer_type']) for x in clicks_df]\n",
    "    clicks_df = pd.concat(clicks_df, axis=0, ignore_index=True)\n",
    "    # on calcule la fréquence des catégories associées aux articles pour chaque utilisateur\n",
    "    clicks_df['category_id'] = clicks_df['click_article_id'].map(article_to_category).astype(int)\n",
    "    clicks_df['total_click'] = clicks_df.groupby(['user_id'])['click_article_id'].transform('count')\n",
    "    clicks_df['total_click_by_category_id'] = clicks_df.groupby(['user_id','category_id'])['click_article_id'].transform('count')\n",
    "    clicks_df['category_click_rate'] = clicks_df['total_click_by_category_id'] / clicks_df['total_click']\n",
    "    clicks_df = clicks_df.drop([\"total_click\", \"total_click_by_category_id\"], axis=1)\n",
    "    # statistiques\n",
    "    old_users = clicks_df.user_id.nunique()\n",
    "    old_shape = clicks_df.shape[0]\n",
    "    clicks_df = clicks_df[clicks_df['user_id'].isin(clicks_df['user_id'].value_counts()[clicks_df['user_id'].value_counts()>CLICK_THRESHOLD].index)]\n",
    "    new_users = clicks_df.user_id.nunique()\n",
    "    print(f\"Suppression de {old_users - new_users} utilisateurs (moins de {CLICK_THRESHOLD} visites)\")\n",
    "    print(f\"{new_users} utilisateurs restants\")\n",
    "    print(f\"La taille de l'historique est passée de {old_shape} à {clicks_df.shape[0]}\")\n",
    "    # sauvegarde\n",
    "    clicks_df.to_csv(df_file, index=False)\n",
    "\n",
    "else:\n",
    "    clicks_df = pd.read_csv(df_file)\n",
    "    \n",
    "clicks_df.head()"
   ]
  },
  {
   "cell_type": "code",
   "execution_count": 6,
   "id": "9899a059",
   "metadata": {},
   "outputs": [],
   "source": [
    "# préparation des données pour l'exploitation\n",
    "left_users = set(clicks_df['user_id'].to_list())\n",
    "left_articles = set(clicks_df['click_article_id'].to_list())\n",
    "articles_index = clicks_df.click_article_id.value_counts().index\n",
    "hash_table = {j: i for i, j in enumerate(articles_index)}\n",
    "\n",
    "# fonction de scoring des modèles\n",
    "def score(model, func):\n",
    "    total = 0\n",
    "    total_correct = 0\n",
    "    selected_users = random.sample(left_users, SCORE_SAMPLE)\n",
    "    predictions = defaultdict(list) \n",
    "    for user in selected_users:\n",
    "        if model==\"CustomContentBased\":\n",
    "            predictions[user].extend(func(user))\n",
    "        else:\n",
    "            predictions[user].extend(func(model, user))\n",
    "    for user_id in predictions:\n",
    "        user_cats = set(clicks_df[clicks_df[\"user_id\"]==user_id][\"category_id\"].to_list())\n",
    "        pred_cats = [*map(lambda x: article_to_category[x[0]] in user_cats, predictions[user_id])]\n",
    "        total += len(pred_cats)\n",
    "        total_correct += sum(pred_cats)\n",
    "\n",
    "    return float(total_correct) / total"
   ]
  },
  {
   "cell_type": "markdown",
   "id": "bdb8a5df",
   "metadata": {},
   "source": [
    "## SVD & Collaborative filtering (KNN)"
   ]
  },
  {
   "cell_type": "code",
   "execution_count": 7,
   "id": "4cf73f7d",
   "metadata": {},
   "outputs": [],
   "source": [
    "# fonction qui retourne les prédictions associées à un modèle de collaborative filtering pour un utilisateur donné\n",
    "def get_CF_predictions(model, user_id, n=5):\n",
    "    user_articles = set(clicks_df[clicks_df[\"user_id\"]==user_id][\"click_article_id\"].to_list())\n",
    "    scores = [(article, model.predict(user_id, article).est) for article in left_articles if article not in user_articles]\n",
    "    scores.sort(key=lambda x: x[1], reverse=True)\n",
    "    return scores[:n]\n",
    "\n",
    "# préparation des données pour la librairie Surprise\n",
    "reader = Reader(rating_scale=(0, 1))\n",
    "train_ds = Dataset.load_from_df(clicks_df[['user_id', 'click_article_id', 'category_click_rate']], reader)\n",
    "train_set = train_ds.build_full_trainset()"
   ]
  },
  {
   "cell_type": "code",
   "execution_count": 8,
   "id": "18d6548c",
   "metadata": {},
   "outputs": [
    {
     "name": "stdout",
     "output_type": "stream",
     "text": [
      "Training time: 95.9952094\n",
      "Score: 0.208\n"
     ]
    }
   ],
   "source": [
    "# entrainement et scoring du modèle SVD\n",
    "trained = 1\n",
    "\n",
    "if not trained:\n",
    "    t0 = timer()\n",
    "    svd_model = SVD().fit(train_set)\n",
    "    with open(r\"baseline.pickle\", \"wb\") as output_file:\n",
    "        pickle.dump(svd_model, output_file)\n",
    "    t1 = timer() - t0\n",
    "    print(f\"Training time: {t1}\")\n",
    "    \n",
    "else:\n",
    "    with open(r\"baseline.pickle\", \"rb\") as input_file:\n",
    "        svd_model = pickle.load(input_file)\n",
    "        \n",
    "# score(svd_model, get_CF_predictions)\n",
    "\n",
    "if DISPLAY_MODE:\n",
    "    print(\"Training time: 95.9952094\\nScore: 0.208\")"
   ]
  },
  {
   "cell_type": "code",
   "execution_count": 13,
   "id": "c29460e0",
   "metadata": {},
   "outputs": [
    {
     "name": "stdout",
     "output_type": "stream",
     "text": [
      "Training time: 100.8639531\n",
      "Score: 0.256\n"
     ]
    }
   ],
   "source": [
    "# entrainement et scoring du modèle de collaborative filtering (KNN)\n",
    "trained = 1\n",
    "\n",
    "if not trained:\n",
    "    t0 = timer()\n",
    "    sim_options = {\n",
    "        \"name\": \"cosine\",\n",
    "        \"user_based\": False,\n",
    "    }\n",
    "\n",
    "    KNN_model = KNNBasic(k=100, min_k=5, sim_options=sim_options).fit(train_set)\n",
    "    with open(r\"knn.pickle\", \"wb\") as output_file:\n",
    "        pickle.dump(KNN_model, output_file)\n",
    "    t1 = timer() - t0\n",
    "    print(f\"Training time: {t1}\")\n",
    "    \n",
    "else:\n",
    "    with open(r\"knn.pickle\", \"rb\") as input_file:\n",
    "        KNN_model = pickle.load(input_file)\n",
    "        \n",
    "# score(KNN_model, get_CF_predictions)\n",
    "\n",
    "if DISPLAY_MODE:\n",
    "    print(\"Training time: 100.8639531\\nScore: 0.256\")"
   ]
  },
  {
   "cell_type": "markdown",
   "id": "791fe8af",
   "metadata": {},
   "source": [
    "## Recommendations Content-Based"
   ]
  },
  {
   "cell_type": "code",
   "execution_count": 12,
   "id": "5ea847ca",
   "metadata": {},
   "outputs": [
    {
     "name": "stdout",
     "output_type": "stream",
     "text": [
      "No training\n",
      "Score: 0.842\n"
     ]
    }
   ],
   "source": [
    "# chargement de l'embedding et des tables de coefficients de similarité \n",
    "embedding = pd.read_pickle('./data/articles_embeddings.pickle')\n",
    "embedding = embedding[articles_index]\n",
    "sim_file = 'cosine_similarities.npy'\n",
    "if not os.path.isfile(sim_file):\n",
    "    cosine_similarities = cosine_similarity(embedding, embedding)\n",
    "    with open(sim_file, 'wb') as f:\n",
    "        np.save(f, cosine_similarities)\n",
    "else:\n",
    "    with open(sim_file, 'rb') as f:\n",
    "        cosine_similarities = np.load(f)\n",
    "        \n",
    "# fonction qui retourne les prédictions associées au modèle custom de recommendations content-based pour un utilisateur donné      \n",
    "def get_CB_predictions(userId, n=5):  \n",
    "    usrArt = clicks_df[clicks_df['user_id']==userId].click_article_id.to_list()\n",
    "    usrArtLocal = [hash_table[x]for x in usrArt]\n",
    "    sim_scores = [0 for i in range(cosine_similarities.shape[0])]\n",
    "    for candidate in range(cosine_similarities.shape[0]):\n",
    "        if candidate not in usrArtLocal:\n",
    "            for tmpArt in usrArtLocal:\n",
    "                sim_scores[candidate] += cosine_similarities[candidate][tmpArt]\n",
    "    sim_scores = [(i, j) for i, j in enumerate(sim_scores)]\n",
    "    sim_scores.sort(key=lambda x: x[1], reverse=True)\n",
    "    \n",
    "    return [(articles_index[x[0]], x[1]) for x in sim_scores[:n]]\n",
    "\n",
    "# score(\"CustomContentBased\", get_CB_predictions)\n",
    "\n",
    "if DISPLAY_MODE:\n",
    "    print(\"No training\\nScore: 0.842\")"
   ]
  },
  {
   "cell_type": "markdown",
   "id": "5ecdc45a",
   "metadata": {},
   "source": [
    "## Tests"
   ]
  },
  {
   "cell_type": "code",
   "execution_count": 11,
   "id": "76426662",
   "metadata": {},
   "outputs": [
    {
     "name": "stderr",
     "output_type": "stream",
     "text": [
      "test_api (__main__.TestStringMethods) ... ok\n",
      "test_cb (__main__.TestStringMethods) ... ok\n",
      "test_cf (__main__.TestStringMethods) ... ok\n",
      "test_svd (__main__.TestStringMethods) ... ok\n",
      "\n",
      "----------------------------------------------------------------------\n",
      "Ran 4 tests in 18.143s\n",
      "\n",
      "OK\n"
     ]
    },
    {
     "data": {
      "text/plain": [
       "<unittest.main.TestProgram at 0x293ba73bfa0>"
      ]
     },
     "execution_count": 11,
     "metadata": {},
     "output_type": "execute_result"
    }
   ],
   "source": [
    "import unittest\n",
    "\n",
    "class TestStringMethods(unittest.TestCase):\n",
    "\n",
    "    def test_svd(self):\n",
    "        res = get_CF_predictions(svd_model, 1)\n",
    "        res = [r[0] for r in res]\n",
    "        self.assertEqual(len(res), 5)\n",
    "        for r in res:\n",
    "            self.assertTrue(r in left_articles)\n",
    "\n",
    "    def test_cf(self):\n",
    "        res = get_CF_predictions(KNN_model, 1)\n",
    "        res = [r[0] for r in res]\n",
    "        self.assertEqual(len(res), 5)\n",
    "        self.assertTrue(all([r in left_articles for r in res]))\n",
    "\n",
    "    def test_cb(self):\n",
    "        res = get_CB_predictions(1)\n",
    "        res = [r[0] for r in res]\n",
    "        self.assertEqual(len(res), 5)\n",
    "        self.assertTrue(all([r in left_articles for r in res]))\n",
    "            \n",
    "    def test_api(self):\n",
    "        res = requests.post('https://oc-p9.azurewebsites.net/api/httptrigger1', json={'userId': 1})\n",
    "        res = [*map(int, res.text[1:-1].split(', '))]\n",
    "        self.assertEqual(len(res), 5)\n",
    "        self.assertTrue(all([r in left_articles for r in res]))\n",
    "\n",
    "unittest.main(argv=[''], verbosity=2, exit=False)"
   ]
  },
  {
   "cell_type": "code",
   "execution_count": null,
   "id": "10b2ff2d",
   "metadata": {},
   "outputs": [],
   "source": []
  }
 ],
 "metadata": {
  "kernelspec": {
   "display_name": "Python 3 (ipykernel)",
   "language": "python",
   "name": "python3"
  },
  "language_info": {
   "codemirror_mode": {
    "name": "ipython",
    "version": 3
   },
   "file_extension": ".py",
   "mimetype": "text/x-python",
   "name": "python",
   "nbconvert_exporter": "python",
   "pygments_lexer": "ipython3",
   "version": "3.8.12"
  }
 },
 "nbformat": 4,
 "nbformat_minor": 5
}
